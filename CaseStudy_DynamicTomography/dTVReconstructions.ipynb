{
 "cells": [
  {
   "cell_type": "code",
   "execution_count": null,
   "metadata": {
    "tags": []
   },
   "outputs": [],
   "source": [
    "#import libraries\n",
    "from cil.framework import AcquisitionGeometry \n",
    "from cil.plugins.astra.operators import ProjectionOperator\n",
    "from cil.optimisation.algorithms import PDHG\n",
    "from cil.optimisation.functions import L2NormSquared\n",
    "from cil.io import NEXUSDataWriter, NEXUSDataReader\n",
    "from cil.utilities.display import show2D\n",
    "from cil.plugins.ccpi_regularisation.functions import FGP_dTV \n",
    "\n",
    "import numpy as np"
   ]
  },
  {
   "cell_type": "code",
   "execution_count": null,
   "metadata": {},
   "outputs": [],
   "source": [
    "# Load reference image prescan\n",
    "name = \"FBP_reconstructions/FBP_projections_720\"   \n",
    "reader = NEXUSDataReader(file_name=name+\".nxs\")\n",
    "fbp_recon_pre_scan = reader.load_data()\n",
    "\n",
    "# Load reference image postscan\n",
    "name = \"FBP_reconstructions/FBP_projections_1600\"   \n",
    "reader = NEXUSDataReader(file_name=name+\".nxs\")\n",
    "fbp_recon_post_scan = reader.load_data()"
   ]
  },
  {
   "cell_type": "code",
   "execution_count": null,
   "metadata": {},
   "outputs": [],
   "source": [
    "# Regularisation parameters for each case\n",
    "alpha={'18':0.0081, '36':0.0072, '72':0.0081, '360':0.03}"
   ]
  },
  {
   "cell_type": "code",
   "execution_count": null,
   "metadata": {},
   "outputs": [],
   "source": [
    "# additional parameters for dTV\n",
    "eta = 0.005\n",
    "iterations = 100\n",
    "tolerance = 1e-6\n",
    "methodTV = 0\n",
    "nonneg = 1"
   ]
  },
  {
   "cell_type": "code",
   "execution_count": null,
   "metadata": {},
   "outputs": [],
   "source": [
    "max_iterations = 100 # change to 1000 to match results of the paper"
   ]
  },
  {
   "cell_type": "code",
   "execution_count": null,
   "metadata": {},
   "outputs": [],
   "source": [
    "for i in [18,36,72,360]:  \n",
    "    \n",
    "    #load sparse data\n",
    "    name_proj = \"SparseData/data_{}\".format(i)    \n",
    "    reader = NEXUSDataReader(file_name=name_proj+\".nxs\")\n",
    "    data = reader.load_data()\n",
    "    \n",
    "    # get acquisition geometry\n",
    "    ag = data.geometry\n",
    "    ig = ag.get_ImageGeometry()\n",
    "    ig.voxel_num_x = 256\n",
    "    ig.voxel_num_y = 256\n",
    "    \n",
    "    # Create single slice ProjectionOperator\n",
    "    ag_sc = ag.subset(channel=0)\n",
    "    ig_sc = ig.subset(channel=0)\n",
    "    Aop = ProjectionOperator(ig_sc, ag_sc, 'gpu') \n",
    "    \n",
    "    print(\"Shape for data is {}\".format(ag.shape))    \n",
    "    \n",
    "    K = Aop\n",
    "    normK = K.norm()\n",
    "    sigma = 1./normK\n",
    "    tau = 1./normK     \n",
    "    \n",
    "    recon = ig.allocate()\n",
    "    \n",
    "    ########################## Solve for the first frame ##########################\n",
    "    print(\"Start dTV regularisation for the frame 0 with {} projections\".format(i))\n",
    "    F0 = 0.5 * L2NormSquared(b=data.subset(channel=0))\n",
    "    G0 = alpha[str(i)]*FGP_dTV(reference = fbp_recon_pre_scan, eta=eta, device='gpu')  \n",
    "\n",
    "    pdhg0 = PDHG(f = F0, g = G0, operator = K, tau = tau, sigma = sigma,\n",
    "                max_iteration = max_iterations,\n",
    "                update_objective_interval = 100)\n",
    "    pdhg0.run(verbose = 0)   \n",
    "    recon.fill(pdhg0.solution, channel=0)\n",
    "    print(\"Finish dTV regularisation for the frame 0 with {} projections\\n\".format(i))\n",
    "    ##############################################################################\n",
    "    \n",
    "    ########################## Solve for all the others ##########################\n",
    "    G = alpha[str(i)] * FGP_dTV(reference = fbp_recon_post_scan, eta=eta, device='gpu') \n",
    "   \n",
    "    for tf in range(1,17):\n",
    "        print(\"Start dTV regularisation for the frame {} with {} projections\".format(tf,i))\n",
    "        F = 0.5 * L2NormSquared(b=data.subset(channel=tf))\n",
    "        # Solve for all the other frames\n",
    "        pdhg = PDHG(f = F, g = G, operator = K, tau = tau, sigma = sigma,\n",
    "                    max_iteration = max_iterations,\n",
    "                    update_objective_interval = 100)\n",
    "        pdhg.run(verbose = 0)   \n",
    "        recon.fill(pdhg.solution, channel=tf)     \n",
    "        print(\"Finish dTV regularisation for the frame {} with {} projections\\n\".format(tf,i))\n",
    "        \n",
    "    show2D(recon, slice_list = [0,5,10,16], num_cols=4, origin=\"upper\",\n",
    "                       cmap=\"inferno\", title=\"Projections {}\".format(i), size=(25, 20))\n",
    "    \n",
    "    name_recon = \"dTVReconstruction_projections_{}\".format(i)\n",
    "    writer = NEXUSDataWriter(file_name = \"dTV_reconstructions/\"+name_recon+\".nxs\",\n",
    "                         data = recon)\n",
    "    writer.write() \n",
    "    "
   ]
  },
  {
   "cell_type": "code",
   "execution_count": null,
   "metadata": {},
   "outputs": [],
   "source": []
  }
 ],
 "metadata": {
  "kernelspec": {
   "display_name": "Python [conda env:cil2_demos]",
   "language": "python",
   "name": "conda-env-cil2_demos-py"
  },
  "language_info": {
   "codemirror_mode": {
    "name": "ipython",
    "version": 3
   },
   "file_extension": ".py",
   "mimetype": "text/x-python",
   "name": "python",
   "nbconvert_exporter": "python",
   "pygments_lexer": "ipython3",
   "version": "3.8.8"
  }
 },
 "nbformat": 4,
 "nbformat_minor": 4
}
