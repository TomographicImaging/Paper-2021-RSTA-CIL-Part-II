{
 "cells": [
  {
   "cell_type": "code",
   "execution_count": null,
   "metadata": {
    "tags": []
   },
   "outputs": [],
   "source": [
    "# Import libraries\n",
    "from cil.framework import AcquisitionGeometry \n",
    "from cil.plugins.astra.operators import ProjectionOperator\n",
    "from cil.optimisation.algorithms import PDHG\n",
    "from cil.optimisation.operators import GradientOperator, BlockOperator\n",
    "from cil.optimisation.functions import IndicatorBox, BlockFunction, L2NormSquared, MixedL21Norm\n",
    "from cil.io import NEXUSDataWriter, NEXUSDataReader\n",
    "from cil.utilities.display import show2D\n",
    "\n",
    "import numpy as np"
   ]
  },
  {
   "cell_type": "code",
   "execution_count": null,
   "metadata": {},
   "outputs": [],
   "source": [
    "# Regularisation parameters for each case\n",
    "alpha={'18':0.00072, '36':0.00063, '72':0.00081, '360':0.005}"
   ]
  },
  {
   "cell_type": "code",
   "execution_count": null,
   "metadata": {},
   "outputs": [],
   "source": [
    "max_iterations = 100 # change to 3000 to match results of the paper"
   ]
  },
  {
   "cell_type": "code",
   "execution_count": null,
   "metadata": {},
   "outputs": [],
   "source": [
    "for i in [18,36,72,360]:  \n",
    "    \n",
    "    # load sparse data\n",
    "    name_proj = \"SparseData/data_{}\".format(i)    \n",
    "    reader = NEXUSDataReader(file_name=name_proj+\".nxs\")\n",
    "    data = reader.load_data()\n",
    "    \n",
    "    # get acquisition geometry\n",
    "    ag = data.geometry\n",
    "    ig = ag.get_ImageGeometry()\n",
    "    ig.voxel_num_x = 256\n",
    "    ig.voxel_num_y = 256\n",
    "    \n",
    "    # Define ProjectionOperator, GradientOperator\n",
    "    Aop = ProjectionOperator(ig, data.geometry, 'gpu')        \n",
    "    L_operator = GradientOperator(ig, correlation = \"SpaceChannels\") \n",
    "    K = BlockOperator(Aop, L_operator)\n",
    "    \n",
    "    # Nonnegativity constraint    \n",
    "    G = IndicatorBox(lower=0)\n",
    "    \n",
    "    normK = K.norm()\n",
    "    sigma = 1./normK\n",
    "    tau = 1./normK\n",
    "    \n",
    "    F = BlockFunction(0.5*L2NormSquared(b=data), alpha[str(i)] * MixedL21Norm())\n",
    "    \n",
    "    x_init = ig.allocate()\n",
    "    pdhg = PDHG(initial = x_init, f = F, g = G, operator=K, max_iteration = max_iterations,\n",
    "                update_objective_interval = 1000)    \n",
    "    pdhg.run(verbose=0)\n",
    "    \n",
    "    name_recon = \"TVReconstruction_projections_{}\".format(i)\n",
    "    writer = NEXUSDataWriter(file_name = \"TV_reconstructions/\"+name_recon+\".nxs\",\n",
    "                         data = pdhg.solution)\n",
    "    writer.write()       \n",
    "\n",
    "    show2D(pdhg.solution, slice_list = [0,5,10,16], num_cols=4, origin=\"upper\",\n",
    "                       cmap=\"inferno\", title=\"Projections {}\".format(i), size=(25, 20))\n",
    "    "
   ]
  }
 ],
 "metadata": {
  "kernelspec": {
   "display_name": "Python [conda env:cil2_demos]",
   "language": "python",
   "name": "conda-env-cil2_demos-py"
  },
  "language_info": {
   "codemirror_mode": {
    "name": "ipython",
    "version": 3
   },
   "file_extension": ".py",
   "mimetype": "text/x-python",
   "name": "python",
   "nbconvert_exporter": "python",
   "pygments_lexer": "ipython3",
   "version": "3.8.8"
  }
 },
 "nbformat": 4,
 "nbformat_minor": 4
}
