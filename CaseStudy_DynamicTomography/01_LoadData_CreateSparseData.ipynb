{
 "cells": [
  {
   "cell_type": "code",
   "execution_count": null,
   "metadata": {},
   "outputs": [],
   "source": [
    "# Import libraries\n",
    "from cil.framework import AcquisitionGeometry\n",
    "from cil.io import NEXUSDataWriter\n",
    "from cil.processors import Slicer\n",
    "from cil.utilities.display import show2D\n",
    "from utils import read_frames, read_extra_frames, download_zenodo\n",
    "\n",
    "import numpy as np"
   ]
  },
  {
   "cell_type": "markdown",
   "metadata": {},
   "source": [
    "1) First, we download the dynamic tomographic data from \n",
    "[Zenodo](https://zenodo.org/record/3696817#.YGyJMxMzb_Q).\n",
    "\n",
    "2) There are resolutions available of size 256 x 256 or 512 x 512, (GelPhantomData_b4.mat and GelPhantomData_b2.mat respectively). For the paper, we use the 256x256 resolution for simplicity.\n",
    "\n",
    "3) Two additional data are provided in GelPhantom_extra_frames.mat with dense sampled measurements from the first time step and the last (18th) time step.\n",
    "\n",
    "**Note that the pixel size of the detector is wrong. The correct pixel size should be doubled.**"
   ]
  },
  {
   "cell_type": "code",
   "execution_count": null,
   "metadata": {},
   "outputs": [],
   "source": [
    "# Download files from Zenodo\n",
    "download_zenodo()"
   ]
  },
  {
   "cell_type": "code",
   "execution_count": null,
   "metadata": {},
   "outputs": [],
   "source": [
    "# Read matlab files for the 17 frames\n",
    "name = \"GelPhantomData_b4\"\n",
    "path = \"MatlabData/\"\n",
    "file_info = read_frames(path, name)"
   ]
  },
  {
   "cell_type": "code",
   "execution_count": null,
   "metadata": {},
   "outputs": [],
   "source": [
    "# Get sinograms + metadata\n",
    "sinograms = file_info['sinograms']\n",
    "frames = sinograms.shape[0]\n",
    "angles = file_info['angles']\n",
    "distanceOriginDetector = file_info['distanceOriginDetector']\n",
    "distanceSourceOrigin = file_info['distanceSourceOrigin']\n",
    "pixelSize = 2*file_info['pixelSize']\n",
    "numDetectors = file_info['numDetectors']"
   ]
  },
  {
   "cell_type": "code",
   "execution_count": null,
   "metadata": {},
   "outputs": [],
   "source": [
    "# Create acquisition + image geometries\n",
    "ag = AcquisitionGeometry.create_Cone2D(source_position = [0, distanceSourceOrigin],\n",
    "                                       detector_position = [0, -distanceOriginDetector])\\\n",
    "                                    .set_panel(numDetectors, pixelSize)\\\n",
    "                                    .set_channels(frames)\\\n",
    "                                    .set_angles(angles, angle_unit=\"radian\")\\\n",
    "                                    .set_labels(['channel','angle', 'horizontal'])\n",
    "\n",
    "ig = ag.get_ImageGeometry()\n",
    "ig.voxel_num_x = 256\n",
    "ig.voxel_num_y = 256"
   ]
  },
  {
   "cell_type": "code",
   "execution_count": null,
   "metadata": {},
   "outputs": [],
   "source": [
    "# Create the 2D+time acquisition data\n",
    "data = ag.allocate()\n",
    "\n",
    "for i in range(frames):\n",
    "   data.fill(sinograms[i], channel = i) "
   ]
  },
  {
   "cell_type": "code",
   "execution_count": null,
   "metadata": {},
   "outputs": [],
   "source": [
    "# Create and save Sparse Data with different angular sampling: 18, 36, 72, 360 projections\n",
    "for i in [1, 5, 10, 20]:\n",
    "    \n",
    "    name_proj = \"data_{}\".format(int(360/i))\n",
    "    new_data = Slicer(roi={'angle':(0,360,i)})(data)\n",
    "    ag = new_data.geometry\n",
    "    ig = ag.get_ImageGeometry()\n",
    "    ig.voxel_num_x = 256\n",
    "    ig.voxel_num_y = 256 \n",
    "    \n",
    "    show2D(new_data, slice_list = [0,5,10,16], num_cols=4, origin=\"upper\",\n",
    "                       cmap=\"inferno\", title=\"Projections {}\".format(int(360/i)), size=(25, 20))    \n",
    "    \n",
    "    writer = NEXUSDataWriter(file_name = \"SparseData/\"+name_proj+\".nxs\",\n",
    "                         data = new_data)\n",
    "    writer.write()  \n",
    "    "
   ]
  },
  {
   "cell_type": "code",
   "execution_count": null,
   "metadata": {},
   "outputs": [],
   "source": [
    "# Read matlab files for the extra frames\n",
    "name = \"GelPhantom_extra_frames\"\n",
    "path = \"MatlabData/\"\n",
    "frame1_info = read_extra_frames(path, name, \"GelPhantomFrame1_b4\")\n",
    "frame18_info = read_extra_frames(path, name, \"GelPhantomFrame18_b4\")\n",
    "\n",
    "# Acquisition geometry for the 1st frame: 720 projections\n",
    "ag2D_frame1 = AcquisitionGeometry.create_Cone2D(source_position = [0,   frame1_info['distanceSourceOrigin']],\n",
    "                                       detector_position = [0, -frame1_info['distanceOriginDetector']])\\\n",
    "                                    .set_panel(num_pixels = frame1_info['numDetectors'], pixel_size = 2*frame1_info['pixelSize'])\\\n",
    "                                    .set_angles(frame1_info['angles'])\\\n",
    "                                    .set_labels(['angle', 'horizontal'])\n",
    "\n",
    "# Acquisition geometry for the 18th frame: 1600 projections\n",
    "ag2D_frame18 = AcquisitionGeometry.create_Cone2D(source_position = [0,   frame18_info['distanceSourceOrigin']],\n",
    "                                       detector_position = [0, -frame18_info['distanceOriginDetector']])\\\n",
    "                                    .set_panel(num_pixels = frame18_info['numDetectors'], pixel_size = 2*frame18_info['pixelSize'])\\\n",
    "                                    .set_angles(frame18_info['angles'])\\\n",
    "                                    .set_labels(['angle', 'horizontal'])\n",
    "\n",
    "# Image geometry is the same\n",
    "ig = ag2D_frame18.get_ImageGeometry()\n",
    "ig.voxel_num_x = 256\n",
    "ig.voxel_num_y = 256"
   ]
  },
  {
   "cell_type": "code",
   "execution_count": null,
   "metadata": {},
   "outputs": [],
   "source": [
    "# Create and save the 2D acquisition data for the extra frames\n",
    "data = ag2D_frame1.allocate()\n",
    "data.fill(frame1_info['sinograms'])\n",
    "show2D(data, cmap=\"inferno\")\n",
    " \n",
    "# Save prescan    \n",
    "name = \"data_prescan_720\"\n",
    "writer = NEXUSDataWriter(file_name = \"SparseData/\" + name +\".nxs\",\n",
    "                     data = data)\n",
    "writer.write() \n",
    "\n",
    "data = ag2D_frame18.allocate()\n",
    "data.fill(frame18_info['sinograms'])\n",
    "show2D(data, cmap=\"inferno\")\n",
    "\n",
    "# Save postscan \n",
    "name = \"data_postscan_1600\"\n",
    "\n",
    "writer = NEXUSDataWriter(file_name = \"SparseData/\" + name +\".nxs\",\n",
    "                     data = data)\n",
    "writer.write()"
   ]
  }
 ],
 "metadata": {
  "kernelspec": {
   "display_name": "Python [conda env:cil2_demos]",
   "language": "python",
   "name": "conda-env-cil2_demos-py"
  },
  "language_info": {
   "codemirror_mode": {
    "name": "ipython",
    "version": 3
   },
   "file_extension": ".py",
   "mimetype": "text/x-python",
   "name": "python",
   "nbconvert_exporter": "python",
   "pygments_lexer": "ipython3",
   "version": "3.8.8"
  }
 },
 "nbformat": 4,
 "nbformat_minor": 4
}
