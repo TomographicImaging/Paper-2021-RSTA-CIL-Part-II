{
 "cells": [
  {
   "cell_type": "code",
   "execution_count": null,
   "metadata": {
    "tags": []
   },
   "outputs": [],
   "source": [
    "# Import libraries\n",
    "from cil.plugins.astra.processors import FBP\n",
    "from cil.io import NEXUSDataWriter, NEXUSDataReader\n",
    "from cil.utilities.display import show2D\n",
    "from utils import create_circular_mask, FBP_recon_per_slice\n",
    "\n",
    "import numpy as np"
   ]
  },
  {
   "cell_type": "code",
   "execution_count": null,
   "metadata": {},
   "outputs": [],
   "source": [
    "# Create 2D circular mask\n",
    "mask1 = create_circular_mask(256,256,radius=110)\n",
    "\n",
    "# Create 2D circular mask for 17 frames\n",
    "mask = np.repeat(mask1[np.newaxis, :, :], 17, axis=0)"
   ]
  },
  {
   "cell_type": "code",
   "execution_count": null,
   "metadata": {},
   "outputs": [],
   "source": [
    "for i in [18, 36,72, 360]:\n",
    "    \n",
    "    name_proj = \"SparseData/data_{}\".format(i)    \n",
    "    reader = NEXUSDataReader(file_name=name_proj+\".nxs\")\n",
    "    tmp = reader.load_data()\n",
    "    \n",
    "    ag = tmp.geometry\n",
    "    ig = ag.get_ImageGeometry()\n",
    "    ig.voxel_num_x = 256\n",
    "    ig.voxel_num_y = 256\n",
    "        \n",
    "    fbp_recon = FBP_recon_per_slice(ig, tmp)*mask\n",
    "    \n",
    "    show2D(fbp_recon, slice_list = [0,5,10,16], num_cols=4, origin=\"upper\",\n",
    "                       cmap=\"inferno\", title=\"Projections {}\".format(i), size=(25, 20))\n",
    "    \n",
    "    name_fbp = \"FBP_projections_{}\".format(i)\n",
    "    writer = NEXUSDataWriter(file_name = \"FBP_reconstructions/\"+name_fbp+\".nxs\",\n",
    "                         data = fbp_recon)\n",
    "    writer.write()      "
   ]
  },
  {
   "cell_type": "code",
   "execution_count": null,
   "metadata": {},
   "outputs": [],
   "source": [
    "# FBP reconstruction for prescan/postscan\n",
    "name_proj = \"SparseData/data_prescan_720\"    \n",
    "reader = NEXUSDataReader(file_name=name_proj+\".nxs\")\n",
    "tmp = reader.load_data()\n",
    "\n",
    "ag = tmp.geometry\n",
    "ig = ag.get_ImageGeometry()\n",
    "ig.voxel_num_x = 256\n",
    "ig.voxel_num_y = 256\n",
    "\n",
    "fbp_recon = FBP(ig, ag)(tmp)*mask1\n",
    "show2D(fbp_recon, cmap=\"inferno\", origin=\"upper\", title=\"FBP prescan\")\n",
    "name_fbp = \"FBP_projections_720\"\n",
    "writer = NEXUSDataWriter(file_name = \"FBP_reconstructions/\"+name_fbp+\".nxs\",\n",
    "                     data = fbp_recon)\n",
    "writer.write()    \n",
    "\n",
    "# FBP reconstruction for prescan/postscan\n",
    "name_proj = \"SparseData/data_postscan_1600\"    \n",
    "reader = NEXUSDataReader(file_name=name_proj+\".nxs\")\n",
    "tmp = reader.load_data()\n",
    "\n",
    "ag = tmp.geometry\n",
    "ig = ag.get_ImageGeometry()\n",
    "ig.voxel_num_x = 256\n",
    "ig.voxel_num_y = 256\n",
    "\n",
    "fbp_recon = FBP(ig, ag)(tmp)*mask1\n",
    "show2D(fbp_recon, cmap=\"inferno\",origin=\"upper\", title=\"FBP postscan\")\n",
    "name_fbp = \"FBP_projections_1600\"\n",
    "writer = NEXUSDataWriter(file_name = \"FBP_reconstructions/\"+name_fbp+\".nxs\",\n",
    "                     data = fbp_recon)\n",
    "writer.write()  \n"
   ]
  },
  {
   "cell_type": "code",
   "execution_count": null,
   "metadata": {},
   "outputs": [],
   "source": []
  }
 ],
 "metadata": {
  "kernelspec": {
   "display_name": "Python [conda env:cil2_demos]",
   "language": "python",
   "name": "conda-env-cil2_demos-py"
  },
  "language_info": {
   "codemirror_mode": {
    "name": "ipython",
    "version": 3
   },
   "file_extension": ".py",
   "mimetype": "text/x-python",
   "name": "python",
   "nbconvert_exporter": "python",
   "pygments_lexer": "ipython3",
   "version": "3.8.8"
  }
 },
 "nbformat": 4,
 "nbformat_minor": 4
}
