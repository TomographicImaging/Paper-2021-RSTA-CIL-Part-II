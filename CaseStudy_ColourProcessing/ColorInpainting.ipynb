{
 "cells": [
  {
   "cell_type": "code",
   "execution_count": null,
   "metadata": {
    "tags": []
   },
   "outputs": [],
   "source": [
    "# Import libraries\n",
    "from cil.framework import ImageGeometry\n",
    "from cil.utilities import dataexample, noise\n",
    "from cil.optimisation.operators import MaskOperator, BlockOperator, SymmetrisedGradientOperator, \\\n",
    "                                GradientOperator, ZeroOperator, IdentityOperator, ChannelwiseOperator\n",
    "\n",
    "from cil.optimisation.functions import ZeroFunction, L1Norm, MixedL21Norm, BlockFunction\n",
    "from cil.optimisation.algorithms import PDHG\n",
    "\n",
    "from skimage.metrics import structural_similarity as ssim\n",
    "from skimage.metrics import peak_signal_noise_ratio as psnr\n",
    "\n",
    "import matplotlib.pyplot as plt\n",
    "import numpy as np\n",
    "\n",
    "from PIL import Image\n",
    "from PIL import ImageFont\n",
    "from PIL import ImageDraw"
   ]
  },
  {
   "cell_type": "code",
   "execution_count": null,
   "metadata": {
    "tags": []
   },
   "outputs": [],
   "source": [
    "# Load Rainbow data\n",
    "data = dataexample.RAINBOW.get()\n",
    "data.reorder(['horizontal_y', 'horizontal_x','channel'])\n",
    "ig = data.geometry\n",
    "im = data.array"
   ]
  },
  {
   "cell_type": "code",
   "execution_count": null,
   "metadata": {
    "tags": []
   },
   "outputs": [],
   "source": [
    "# Create inpainted image using Pillow\n",
    "tmp = Image.fromarray(np.uint8(im*255)).convert('RGB')\n",
    "text = \"\\n\\n This is a double rainbow. Remove the text using the Core Imaging Library.\"*16\n",
    "draw = ImageDraw.Draw(tmp)\n",
    "font = ImageFont.truetype('FreeSerifBold.ttf', 37)\n",
    "draw.text((0, 0), text, (0, 0, 0), font=font)\n",
    "\n",
    "im1 = np.array(tmp)\n",
    "im1 = im1/im1.max()\n",
    "ig1 = ig.copy()\n",
    "data1 = ig1.allocate()\n",
    "data1.fill(im1)"
   ]
  },
  {
   "cell_type": "code",
   "execution_count": null,
   "metadata": {
    "tags": []
   },
   "outputs": [],
   "source": [
    "# Create mask from corrupted image and apply MaskOperator channelwise\n",
    "tmp_mask_array = np.abs(im1 - im)\n",
    "plt.figure(figsize=(10,10))\n",
    "plt.imshow(tmp_mask_array, cmap ='inferno')\n",
    "plt.show()\n",
    "\n",
    "tmp = (data1-data).abs()==0\n",
    "mask2D = tmp[:,:,0]\n",
    "\n",
    "mask = ig.subset(channel=0).allocate(True,dtype=np.bool)\n",
    "mask.fill(mask2D)\n",
    "MO = ChannelwiseOperator(MaskOperator(mask), 3, dimension = 'append')\n",
    "\n",
    "# Add salt and pepper noise\n",
    "noisy_data = noise.saltnpepper(data1, amount=0.03, seed = 10)\n",
    "noisy_data = MO.direct(noisy_data) \n",
    "\n",
    "plt.figure(figsize=(10,10))\n",
    "plt.imshow(noisy_data.as_array())\n",
    "plt.colorbar()\n",
    "plt.show()"
   ]
  },
  {
   "cell_type": "code",
   "execution_count": null,
   "metadata": {
    "tags": []
   },
   "outputs": [],
   "source": [
    "# Setup PDHG for TGV regularisation\n",
    "alpha = 0.5\n",
    "beta = 0.2\n",
    "\n",
    "# Define BlockFunction f\n",
    "f2 = alpha * MixedL21Norm()\n",
    "f3 = beta * MixedL21Norm() \n",
    "f1 = L1Norm(b=noisy_data)\n",
    "f = BlockFunction(f1, f2, f3)         \n",
    "\n",
    "# Define function g \n",
    "g = ZeroFunction()\n",
    "\n",
    "# Define BlockOperator K\n",
    "K11 = MO\n",
    "K21 = GradientOperator(ig)\n",
    "K32 = SymmetrisedGradientOperator(K21.range)\n",
    "K12 = ZeroOperator(K32.domain, ig)\n",
    "K22 = IdentityOperator(K21.range)\n",
    "K31 = ZeroOperator(ig, K32.range)\n",
    "K = BlockOperator(K11, -K12, K21, K22, K31, K32, shape=(3,2) )\n",
    "\n",
    "# Compute operator Norm\n",
    "normK = K.norm()\n",
    "\n",
    "# Setup and run the PDHG algorithm\n",
    "pdhg = PDHG(f=f,g=g,operator=K,\n",
    "            max_iteration = 1000,\n",
    "            update_objective_interval = 500)\n",
    "pdhg.run(1000,verbose = 2)      "
   ]
  },
  {
   "cell_type": "code",
   "execution_count": null,
   "metadata": {
    "tags": []
   },
   "outputs": [],
   "source": [
    "# show ground truth, noisy data and reconstruction\n",
    "all_im = [data, noisy_data, pdhg.get_output()[0]]\n",
    "\n",
    "ssim_res = ssim(data.as_array(), pdhg.get_output()[0].as_array(), data_range=data.max()-data.min(), multichannel=True)\n",
    "psnr_res = psnr(data.as_array(), pdhg.get_output()[0].as_array(), data_range=data.max()-data.min())\n",
    "\n",
    "title = ['Ground Truth', 'Noisy data', 'TGV (alpha,beta)={}, PSNR/SSIM = {},{}'.format(alpha, psnr_res,ssim_res)]\n",
    "\n",
    "\n",
    "for i in range(len(all_im)):\n",
    "    plt.figure(figsize=(15,18))    \n",
    "    plt.axis('off')\n",
    "    ax = plt.gca()\n",
    "    tmp = ax.imshow(all_im[i].as_array())\n",
    "plt.show() "
   ]
  },
  {
   "cell_type": "code",
   "execution_count": null,
   "metadata": {
    "tags": []
   },
   "outputs": [],
   "source": []
  }
 ],
 "metadata": {
  "kernelspec": {
   "display_name": "Python [conda env:cil2_demos]",
   "language": "python",
   "name": "conda-env-cil2_demos-py"
  },
  "language_info": {
   "codemirror_mode": {
    "name": "ipython",
    "version": 3
   },
   "file_extension": ".py",
   "mimetype": "text/x-python",
   "name": "python",
   "nbconvert_exporter": "python",
   "pygments_lexer": "ipython3",
   "version": "3.8.8"
  }
 },
 "nbformat": 4,
 "nbformat_minor": 4
}
