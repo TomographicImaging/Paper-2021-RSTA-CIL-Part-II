{
 "cells": [
  {
   "cell_type": "code",
   "execution_count": null,
   "metadata": {
    "tags": []
   },
   "outputs": [],
   "source": [
    "# Import libraries\n",
    "from cil.optimisation.functions import TotalVariation\n",
    "from cil.utilities import dataexample, noise\n",
    "\n",
    "from skimage.metrics import structural_similarity as ssim\n",
    "from skimage.metrics import peak_signal_noise_ratio as psnr\n",
    "\n",
    "import matplotlib.pyplot as plt"
   ]
  },
  {
   "cell_type": "code",
   "execution_count": null,
   "metadata": {},
   "outputs": [],
   "source": [
    "# Load Rainbow data\n",
    "data = dataexample.RAINBOW.get()\n",
    "data.reorder(['horizontal_y', 'horizontal_x','channel'])\n",
    "\n",
    "noisy_data = noise.gaussian(data, seed = 10, var = 0.02)\n",
    "\n",
    "alpha = 0.15\n",
    "TV = alpha * TotalVariation(max_iteration=500)\n",
    "proxTV = TV.proximal(noisy_data, tau=1.0)"
   ]
  },
  {
   "cell_type": "code",
   "execution_count": null,
   "metadata": {
    "tags": []
   },
   "outputs": [],
   "source": [
    "all_im = [data, noisy_data, proxTV]\n",
    "\n",
    "ssim_res = ssim(data.as_array(), proxTV.as_array(), data_range=data.max()-data.min(), multichannel=True)\n",
    "psnr_res = psnr(data.as_array(), proxTV.as_array(), data_range=data.max()-data.min())\n",
    "\n",
    "title = ['Ground Truth', 'Noisy data', 'TV alpha={}, PSNR/SSIM = {:.3f}, {:.3f}'.format(alpha, psnr_res,ssim_res)]\n",
    "\n",
    "for i in range(len(all_im)):\n",
    "    plt.figure(figsize=(15,18))\n",
    "    plt.axis('off')\n",
    "    ax = plt.gca()\n",
    "    tmp = ax.imshow(all_im[i].as_array())\n",
    "    plt.title(title[i])\n"
   ]
  },
  {
   "cell_type": "code",
   "execution_count": null,
   "metadata": {
    "tags": []
   },
   "outputs": [],
   "source": []
  }
 ],
 "metadata": {
  "kernelspec": {
   "display_name": "Python [conda env:cil2_demos]",
   "language": "python",
   "name": "conda-env-cil2_demos-py"
  },
  "language_info": {
   "codemirror_mode": {
    "name": "ipython",
    "version": 3
   },
   "file_extension": ".py",
   "mimetype": "text/x-python",
   "name": "python",
   "nbconvert_exporter": "python",
   "pygments_lexer": "ipython3",
   "version": "3.8.8"
  }
 },
 "nbformat": 4,
 "nbformat_minor": 4
}
