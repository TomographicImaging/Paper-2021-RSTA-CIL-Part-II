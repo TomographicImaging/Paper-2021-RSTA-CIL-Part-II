{
 "cells": [
  {
   "cell_type": "code",
   "execution_count": 13,
   "id": "2015e5f6-19ad-4c3e-aedf-090f3f54adfa",
   "metadata": {},
   "outputs": [],
   "source": [
    "# Import Libraries\n",
    "from cil.framework import AcquisitionGeometry, ImageGeometry\n",
    "from cil.io import NEXUSDataWriter\n",
    "from cil.processors import Slicer\n",
    "from cil.utilities.display import show2D\n",
    "from utils import download_zenodo\n",
    "\n",
    "import h5py\n",
    "import numpy as np\n",
    "import scipy.io as sio\n",
    "import matplotlib.pyplot as plt\n",
    "\n",
    "import os"
   ]
  },
  {
   "cell_type": "markdown",
   "id": "afb2542f-d03a-4f32-a579-ea3dbdacab48",
   "metadata": {},
   "source": [
    "First, we download the Hyperspectral X-ray CT data set of mineralised ore sample with Au and Pb deposits from \n",
    "[Zenodo](https://zenodo.org/record/4157615#.YJEsQWYzZp8).\n",
    "\n",
    "The data set consists of one .txt file and three .mat (MATLAB) data files.\n",
    "\n",
    "1. `Au_rock_scan_geometry.txt` gives a breakdown of the full sample and detector geometry used when acquiring the raw projections. The number of horizontal detector pixels accounts for the fact that a set of 5 tiled scans of the sample were collected and later stitched together.\n",
    "\n",
    "1. `Au_rock_sinogram_full.mat` contains the full 4D sinogram constructed following flat-field normalisation of the raw projection data. The data matrix contains the total number of energy channels acquired during scanning, as well as the conventional elements of vertical/horizontal detector pixel number and total projection angles.\n",
    "\n",
    "1. `commonX.mat` provides a direct conversion between the energy channels, and the energies (in keV) that they correspond to, following a calibration procedure prior to scanning.\n",
    "\n",
    "1. `FF.mat` contains the 4D flatfield data acquired when no sample was present. This data was used to normalise the projection datasets, as the sinogram was constructed.\n",
    " \n",
    "**Note:** This will take some time.\n",
    "\n"
   ]
  },
  {
   "cell_type": "code",
   "execution_count": 2,
   "id": "b7a63738-ddf9-4ab8-b483-ed53c60f4de0",
   "metadata": {},
   "outputs": [],
   "source": [
    "download_zenodo()"
   ]
  },
  {
   "cell_type": "code",
   "execution_count": 3,
   "id": "642c5045-a147-405a-959a-3dff40452fc9",
   "metadata": {},
   "outputs": [],
   "source": [
    "pathname = os.path.abspath(\"MatlabData/\")\n",
    "# pathname = os.path.abspath(\"/home/edo/scratch/Dataset/CCPi/AuRock\")\n",
    "# spectral_data_sets/Au_rock/\"\n",
    "datafile = 'Au_rock_sinogram_full.mat'\n",
    "ffdatafile = 'FF.mat'; # Flat fields\n",
    "ecdatafile = 'commonX.mat'; # Energy channels (assumed center value and unit keV)\n",
    "\n",
    "path1 = os.path.join(pathname, datafile)\n",
    "path2 = os.path.join(pathname, ffdatafile) \n",
    "path3 = os.path.join(pathname, ecdatafile)\n",
    "\n",
    "data_arrays1 = {}\n",
    "data_arrays2 = {}\n",
    "\n",
    "# Read Data\n",
    "f1 = h5py.File(path1, 'r')\n",
    "for k, v in f1.items():\n",
    "    data_arrays1[k] = np.array(v)\n",
    "    \n",
    "# Read Flat fields    \n",
    "f2 = h5py.File(path2,'r')\n",
    "for k, v in f2.items():\n",
    "    data_arrays2 = np.array(v)    \n",
    "            \n",
    "# Read Energy channels    \n",
    "tmp_energy_channels = sio.loadmat(path3)        \n",
    "echannels = tmp_energy_channels['commonX']"
   ]
  },
  {
   "cell_type": "code",
   "execution_count": 4,
   "id": "7117a99e-4a2e-4cc7-bdb5-7ade5542ca56",
   "metadata": {},
   "outputs": [
    {
     "data": {
      "image/png": "[encoded data removed]",
      "text/plain": [
       "<Figure size 432x288 with 1 Axes>"
      ]
     },
     "metadata": {
      "needs_background": "light"
     },
     "output_type": "display_data"
    }
   ],
   "source": [
    "# Show Energy and Channel number relation\n",
    "plt.figure()\n",
    "plt.plot(echannels[0])\n",
    "plt.title(\"Energy vs Channel number\")\n",
    "plt.show()"
   ]
  },
  {
   "cell_type": "code",
   "execution_count": 5,
   "id": "4bbb287f-8fe5-4a0c-bf75-73a5d80c5392",
   "metadata": {},
   "outputs": [
    {
     "name": "stdout",
     "output_type": "stream",
     "text": [
      "Sinogram Raw Data shape is [Channels, Horizontal, Angle, Vertical] = (800, 400, 120, 80)\n",
      "Need to re-order as (channel, vertical, angle, horizontal) \n",
      "Re-order data shape is [Channels, Vertical, Angle, Horizontal] (800, 80, 120, 400)\n",
      "Flat Fields shape is (800, 400, 80)\n"
     ]
    }
   ],
   "source": [
    "# Re-order shape of tmp_raw_data\n",
    "tmp_raw_data = data_arrays1[\"S2\"]\n",
    "print(\"Sinogram Raw Data shape is [Channels, Horizontal, Angle, Vertical] = {}\".format(tmp_raw_data.shape))\n",
    "print(\"Need to re-order as (channel, vertical, angle, horizontal) \")\n",
    "\n",
    "# re-order data as (channel, vertical, angle, horizontal)\n",
    "tmp_raw_data = np.swapaxes(tmp_raw_data, 1, 3)\n",
    "print(\"Re-order data shape is [Channels, Vertical, Angle, Horizontal] {}\".format(tmp_raw_data.shape))\n",
    "      \n",
    "# # # flat field      \n",
    "tmp_raw_flat = data_arrays2\n",
    "print(\"Flat Fields shape is {}\".format(tmp_raw_flat.shape))"
   ]
  },
  {
   "cell_type": "code",
   "execution_count": 6,
   "id": "c1551f84-0167-4368-9d69-2cf63f338f7f",
   "metadata": {},
   "outputs": [],
   "source": [
    "# Flat field correction\n",
    "# FF.mat contains the flat field at all energy channels, size 80x400x800.\n",
    "# The 400 is horizontically stitched of 5 times 80 pixels, by moving detector.\n",
    "# Something failed in the fifth position, so last 80 cannot be used.\n",
    "# Position of the four others do not clearly seem to affect flat field, \n",
    "# so average these four and stitch together five copies of the average \n",
    "# to get flat field to use.\n",
    "\n",
    "Fmean4 = 0.25*(tmp_raw_flat[:,0:80,:] + tmp_raw_flat[:,80:160,:] + tmp_raw_flat[:,160:240,:] + tmp_raw_flat[:,240:320,:])\n",
    "Fmean = np.concatenate((Fmean4,Fmean4,Fmean4,Fmean4,Fmean4), axis=1)\n",
    "Fmean = np.reshape(Fmean,[800,80,1,400]);"
   ]
  },
  {
   "cell_type": "code",
   "execution_count": 7,
   "id": "49d9ff4d-0de3-4e4d-985c-ee37807844c3",
   "metadata": {},
   "outputs": [
    {
     "name": "stderr",
     "output_type": "stream",
     "text": [
      "<ipython-input-7-83ac2edaabb6>:1: RuntimeWarning: divide by zero encountered in true_divide\n",
      "  tmp = tmp_raw_data/Fmean\n",
      "<ipython-input-7-83ac2edaabb6>:1: RuntimeWarning: invalid value encountered in true_divide\n",
      "  tmp = tmp_raw_data/Fmean\n",
      "<ipython-input-7-83ac2edaabb6>:2: RuntimeWarning: invalid value encountered in multiply\n",
      "  tmp800 = 0.*tmp\n",
      "<ipython-input-7-83ac2edaabb6>:3: RuntimeWarning: invalid value encountered in greater\n",
      "  tmp800[tmp>0] = -np.log(tmp[tmp>0])\n"
     ]
    }
   ],
   "source": [
    "tmp = tmp_raw_data/Fmean\n",
    "tmp800 = 0.*tmp\n",
    "tmp800[tmp>0] = -np.log(tmp[tmp>0])"
   ]
  },
  {
   "cell_type": "code",
   "execution_count": 8,
   "id": "dee17232-914e-40bb-86e3-e0d7e4a8eb65",
   "metadata": {},
   "outputs": [
    {
     "name": "stdout",
     "output_type": "stream",
     "text": [
      "Geometric magnification 3.846153846153846\n",
      "Chanels 800\n",
      "vertical 80\n",
      "num_angles 120\n",
      "horizontal 400\n",
      "distanceSourceOrigin 4307.692307692308\n",
      "distanceOriginDetector 12260.355029585799\n"
     ]
    }
   ],
   "source": [
    "# Define AcquisitionGeometry and ImageGeometry\n",
    "detector_pixel_size = 0.250 # mm\n",
    "voxel_size = 0.065 # mm\n",
    "source_to_sample_dist = 280.0 # mm\n",
    "magnification_factor =  (detector_pixel_size/voxel_size) \n",
    "\n",
    "channels, vertical, num_angles, horizontal = tmp800.shape\n",
    "\n",
    "print(\"Geometric magnification {}\".format(magnification_factor))\n",
    "print(\"Chanels {}\".format(channels))\n",
    "print(\"vertical {}\".format(vertical))\n",
    "print(\"num_angles {}\".format(num_angles))\n",
    "print(\"horizontal {}\".format(horizontal))\n",
    "\n",
    "# AcquisitionGeometry parameters\n",
    "angles = np.linspace(-np.pi/4, 2*np.pi - np.pi/4, num_angles)\n",
    "distanceSourceOrigin = source_to_sample_dist\n",
    "distanceSourceDetector = magnification_factor*distanceSourceOrigin\n",
    "distanceOriginDetector = distanceSourceDetector - distanceSourceOrigin\n",
    "\n",
    "distanceSourceOrigin = distanceSourceOrigin/voxel_size\n",
    "distanceOriginDetector = distanceOriginDetector/voxel_size\n",
    "\n",
    "print(\"distanceSourceOrigin {}\".format(distanceSourceOrigin))\n",
    "print(\"distanceOriginDetector {}\".format(distanceOriginDetector))"
   ]
  },
  {
   "cell_type": "code",
   "execution_count": 9,
   "id": "b24417e9-ccfa-4ee0-b9da-54a8ec4bcf5b",
   "metadata": {},
   "outputs": [],
   "source": [
    "ag = AcquisitionGeometry.create_Cone3D(source_position = [0, -distanceSourceOrigin, 0],\n",
    "                                       detector_position = [0, distanceOriginDetector, 0])\\\n",
    "                                    .set_panel([horizontal,vertical], [detector_pixel_size,detector_pixel_size])\\\n",
    "                                    .set_channels(channels)\\\n",
    "                                    .set_angles(-angles, angle_unit=\"radian\")\\\n",
    "                                    .set_labels(['channel','vertical', 'angle', 'horizontal'])"
   ]
  },
  {
   "cell_type": "code",
   "execution_count": 10,
   "id": "ad039d44-0398-497f-b561-9bd0f032be0b",
   "metadata": {},
   "outputs": [],
   "source": [
    "raw_data = ag.allocate()\n",
    "raw_data.fill(tmp800)"
   ]
  },
  {
   "cell_type": "code",
   "execution_count": 11,
   "id": "5f9b9795-831b-4094-a504-80562534074f",
   "metadata": {},
   "outputs": [],
   "source": [
    "data = Slicer(roi={'channel': (318, 398)})(raw_data)"
   ]
  },
  {
   "cell_type": "code",
   "execution_count": 12,
   "id": "17560cb2-7f4a-4309-8d04-c70bb1da931e",
   "metadata": {},
   "outputs": [],
   "source": [
    "name = \"full_raw_data_flat_field_318_398_channels.nxs\"\n",
    "writer = NEXUSDataWriter(file_name=\"HyperspectralData/\"+name,\n",
    "                         data = data)\n",
    "writer.write()"
   ]
  }
 ],
 "metadata": {
  "kernelspec": {
   "display_name": "Python [conda env:cil21_tigre_astra] *",
   "language": "python",
   "name": "conda-env-cil21_tigre_astra-py"
  },
  "language_info": {
   "codemirror_mode": {
    "name": "ipython",
    "version": 3
   },
   "file_extension": ".py",
   "mimetype": "text/x-python",
   "name": "python",
   "nbconvert_exporter": "python",
   "pygments_lexer": "ipython3",
   "version": "3.8.8"
  }
 },
 "nbformat": 4,
 "nbformat_minor": 5
}
