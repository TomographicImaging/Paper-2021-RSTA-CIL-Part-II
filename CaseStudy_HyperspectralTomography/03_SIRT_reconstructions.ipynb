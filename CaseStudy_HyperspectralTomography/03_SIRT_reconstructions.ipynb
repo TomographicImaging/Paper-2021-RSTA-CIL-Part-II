{
 "cells": [
  {
   "cell_type": "code",
   "execution_count": null,
   "id": "d10d41da-863d-467c-af00-c5eb1ac8db5b",
   "metadata": {},
   "outputs": [],
   "source": [
    "from cil.io import NEXUSDataReader, NEXUSDataWriter\n",
    "from cil.optimisation.algorithms import SIRT\n",
    "from cil.plugins.astra.operators import ProjectionOperator\n",
    "from cil.optimisation.functions import IndicatorBox\n",
    "from cil.utilities.display import show2D\n",
    "from cil.processors import Slicer\n",
    "\n",
    "import matplotlib.pyplot as plt\n",
    "from mpl_toolkits.axes_grid1 import AxesGrid\n",
    "\n",
    "import numpy as np\n",
    "import h5py"
   ]
  },
  {
   "cell_type": "markdown",
   "id": "f507b822-651f-4dd0-a07c-ab367841467b",
   "metadata": {},
   "source": [
    "## Load data after the `RingRemover` processor. \n",
    "\n",
    "## For the reconstruction, we use only 5 channels and 5 vertical slices.\n",
    "\n",
    "## To match the results in the publication comment the line below."
   ]
  },
  {
   "cell_type": "code",
   "execution_count": null,
   "id": "5d8893d9-176f-4611-bd17-aadd46ec263d",
   "metadata": {},
   "outputs": [],
   "source": [
    "name = \"data_after_ring_remover_318_398.nxs\"\n",
    "reader = NEXUSDataReader(file_name=\"HyperspectralData/\"+name)\n",
    "data = reader.read()\n",
    "\n",
    "# Comment to use all the channels and vertical slices\n",
    "data = Slicer(roi={'channel': (37,42),'vertical': (17,22)})(data)"
   ]
  },
  {
   "cell_type": "markdown",
   "id": "9a580fe0-b923-4624-b760-f2a0cfc98811",
   "metadata": {},
   "source": [
    "# Get image, acquisition geometries"
   ]
  },
  {
   "cell_type": "code",
   "execution_count": null,
   "id": "0fd3f2b1-0838-4e83-9612-580ee0e9c5b5",
   "metadata": {},
   "outputs": [],
   "source": [
    "ag3D = data.geometry.subset(channel=0)\n",
    "ig3D = ag3D.get_ImageGeometry()\n",
    "\n",
    "A = ProjectionOperator(ig3D, ag3D,'gpu')\n",
    "\n",
    "ig = data.geometry.get_ImageGeometry()"
   ]
  },
  {
   "cell_type": "markdown",
   "id": "ae69a66e-3fb1-4721-80c8-ac3c1476df32",
   "metadata": {},
   "source": [
    "# Non-negativity constraint"
   ]
  },
  {
   "cell_type": "code",
   "execution_count": null,
   "id": "c0b4c368-c411-4b19-b82c-ee1b752b8795",
   "metadata": {},
   "outputs": [],
   "source": [
    "constraint = IndicatorBox(lower=0.0)"
   ]
  },
  {
   "cell_type": "code",
   "execution_count": null,
   "id": "c8ed4074-e949-4236-ba9e-d773d20fc0a9",
   "metadata": {},
   "outputs": [],
   "source": [
    "max_iterations = 100 "
   ]
  },
  {
   "cell_type": "markdown",
   "id": "61f6fb1d-3492-4603-9cb1-e75322cca59e",
   "metadata": {},
   "source": [
    "# SIRT reconstruction without warm start"
   ]
  },
  {
   "cell_type": "code",
   "execution_count": null,
   "id": "a1561c9d-640e-4ef5-b821-914a05a01d4b",
   "metadata": {},
   "outputs": [],
   "source": [
    "sirt4D_nowarm = ig.allocate()\n",
    "\n",
    "x0 = ig3D.allocate()\n",
    "\n",
    "constraint = IndicatorBox(lower=0)\n",
    "sirt3D_nowarm = SIRT(max_iteration = max_iterations)\n",
    "\n",
    "for i in range(ig.channels):\n",
    "    sirt3D_nowarm.iteration=0\n",
    "    sirt3D_nowarm.set_up(initial=x0, operator=A, constraint=constraint, \n",
    "                     data=data.subset(channel=i))  \n",
    "    sirt3D_nowarm.run(verbose=0)\n",
    "    sirt4D_nowarm.fill(sirt3D_nowarm.solution, channel=i)  \n",
    "    print(\"Finish SIRT reconstruction for channel {}\".format(i))"
   ]
  },
  {
   "cell_type": "markdown",
   "id": "4dac989e-3944-4b4f-a256-7210cb975b18",
   "metadata": {},
   "source": [
    "# SIRT reconstruction with warm start. \n",
    "\n",
    "## Initialise with respect to the SIRT reconstruction of the previous channel"
   ]
  },
  {
   "cell_type": "code",
   "execution_count": null,
   "id": "a6cb51a2-289b-48f0-8a14-269cde5e5f8a",
   "metadata": {},
   "outputs": [],
   "source": [
    "sirt4D_warm = ig.allocate()\n",
    "x0 = ig3D.allocate()\n",
    "constraint = IndicatorBox(lower=0)\n",
    "sirt3D_warm = SIRT(max_iteration = max_iterations)\n",
    "\n",
    "\n",
    "for i in range(ig.channels):\n",
    "    sirt3D_warm.iteration=0\n",
    "    sirt3D_warm.set_up(initial=x0, operator=A, constraint=constraint, \n",
    "                     data=data.subset(channel=i))  \n",
    "    sirt3D_warm.run(verbose=0)\n",
    "    sirt4D_warm.fill(sirt3D_warm.solution, channel=i)\n",
    "    x0.fill(sirt3D_warm.solution)\n",
    "    print(\"Finish SIRT reconstruction for channel {}\".format(i))"
   ]
  },
  {
   "cell_type": "code",
   "execution_count": null,
   "id": "8f8d255a-6618-4e35-9c79-b174add65548",
   "metadata": {},
   "outputs": [],
   "source": [
    "show2D([sirt4D_warm, sirt4D_nowarm], slice_list=[1,1],\n",
    "       title=[\"SIRT warm\",\"SIRT no warm\"], \n",
    "       origin=\"upper\", fix_range=(0, 0.45), cmap=\"inferno\")"
   ]
  },
  {
   "cell_type": "code",
   "execution_count": null,
   "id": "328d8b05-d3bc-45a1-8ddc-5c627406dfcb",
   "metadata": {},
   "outputs": [],
   "source": [
    "# Save SIRT reconstrucitions\n",
    "name = \"sirt_recon_nowarm.nxs\"\n",
    "writer = NEXUSDataWriter(file_name = \"HyperspectralData/\" + name,\n",
    "                     data = sirt4D_nowarm)\n",
    "writer.write()\n",
    "\n",
    "name = \"sirt_recon_warm.nxs\"\n",
    "writer = NEXUSDataWriter(file_name = \"HyperspectralData/\" + name,\n",
    "                     data = sirt4D_warm)\n",
    "writer.write()"
   ]
  },
  {
   "cell_type": "code",
   "execution_count": null,
   "id": "c636c359-0bb8-4f24-b6fd-704d3c4d1366",
   "metadata": {},
   "outputs": [],
   "source": []
  }
 ],
 "metadata": {
  "kernelspec": {
   "display_name": "Python [conda env:cil21_tigre_astra] *",
   "language": "python",
   "name": "conda-env-cil21_tigre_astra-py"
  },
  "language_info": {
   "codemirror_mode": {
    "name": "ipython",
    "version": 3
   },
   "file_extension": ".py",
   "mimetype": "text/x-python",
   "name": "python",
   "nbconvert_exporter": "python",
   "pygments_lexer": "ipython3",
   "version": "3.8.8"
  }
 },
 "nbformat": 4,
 "nbformat_minor": 5
}
