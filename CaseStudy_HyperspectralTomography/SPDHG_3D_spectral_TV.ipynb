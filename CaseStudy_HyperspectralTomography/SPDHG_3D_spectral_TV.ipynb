{
 "cells": [
  {
   "cell_type": "code",
   "execution_count": 1,
   "id": "54c1fe47-b18d-4126-a7ae-ef2b0e3af2e6",
   "metadata": {},
   "outputs": [],
   "source": [
    "from cil.io import NEXUSDataReader, NEXUSDataWriter\n",
    "from cil.optimisation.algorithms import SPDHG\n",
    "from cil.plugins.astra.operators import ProjectionOperator\n",
    "from cil.optimisation.functions import IndicatorBox, L2NormSquared, L1Norm, MixedL21Norm, BlockFunction\n",
    "from cil.optimisation.operators import GradientOperator, BlockOperator\n",
    "from cil.framework import BlockDataContainer, AcquisitionGeometry\n",
    "from cil.processors import Slicer\n",
    "from cil.optimisation.operators import GradientOperator"
   ]
  },
  {
   "cell_type": "code",
   "execution_count": 2,
   "id": "b28a011c-bdc5-4d7f-83a6-7fd9d16c61a4",
   "metadata": {},
   "outputs": [
    {
     "name": "stdout",
     "output_type": "stream",
     "text": [
      "Sinogram shape is (80, 80, 120, 400)\n"
     ]
    }
   ],
   "source": [
    "# Load data after the RingRemover processor\n",
    "name = \"data_after_ring_remover_318_398.nxs\"\n",
    "read_data = NEXUSDataReader(file_name = \"HyperspectralData/\" + name)\n",
    "data = read_data.load_data()\n",
    "print(\"Sinogram shape is {}\".format(data.shape))"
   ]
  },
  {
   "cell_type": "markdown",
   "id": "e5b91830-8a0f-4212-9df0-7ffc289d9039",
   "metadata": {},
   "source": [
    "# Select only 5 energy channels and 5 vertical slices. \n",
    "\n",
    "# To reproduce the results in the paper, comment the line below. The reconstruction with 10 subsets takes about 6 hours."
   ]
  },
  {
   "cell_type": "code",
   "execution_count": 3,
   "id": "6342a8bb-3af8-4964-8f2f-cbc33888ef5d",
   "metadata": {},
   "outputs": [
    {
     "name": "stdout",
     "output_type": "stream",
     "text": [
      "Sinogram shape is (5, 5, 120, 400)\n"
     ]
    }
   ],
   "source": [
    "# comment to reproduce the results in the paper\n",
    "data = Slicer(roi={'channel': (37,42),'vertical': (17,22)})(data)\n",
    "print(\"Sinogram shape is {}\".format(data.shape))\n",
    "\n",
    "# Extract geometry and angle information from data\n",
    "ag = data.geometry\n",
    "ig = ag.get_ImageGeometry()\n",
    "angles = ag.angles"
   ]
  },
  {
   "cell_type": "code",
   "execution_count": 4,
   "id": "c3622f20-8c9f-4259-9ad5-8251e3c0e7b9",
   "metadata": {},
   "outputs": [
    {
     "name": "stdout",
     "output_type": "stream",
     "text": [
      "Initialised GradientOperator with C backend running with  16  threads\n"
     ]
    }
   ],
   "source": [
    "# Setup SPDHG parameters\n",
    "sample = \"stride\"\n",
    "\n",
    "# Choose number of subsets\n",
    "subsets = 10\n",
    "size_of_subsets = int(len(angles)/subsets)\n",
    "\n",
    "if sample ==\"uniform\":\n",
    "    list_data = [Slicer(roi={'angle':(i,len(angles),i+size_of_subsets)})(data) for i in range(0, len(angles), size_of_subsets)]\n",
    "elif sample ==\"stride\":  \n",
    "    list_data = [Slicer(roi={'angle':(i,len(angles),subsets)})(data) for i in range(subsets)]\n",
    "            \n",
    "list_geometries = [ag.geometry for ag in list_data ]\n",
    "\n",
    "Grad = GradientOperator(ig, correlation=\"SpaceChannels\", split=True)\n",
    "\n",
    "# For every geometry in list_geometries, define operators A_i\n",
    "A_i = []\n",
    "A_i = [ProjectionOperator(ig, ageom, 'gpu') for ageom in list_geometries]\n",
    "A_i.append(Grad)\n",
    "\n",
    "# Wrap the projection operators A_i and GradientOperator to the BlockOperator K\n",
    "K = BlockOperator(*A_i)\n",
    "\n",
    "b = BlockDataContainer(*list_data)\n",
    "    \n",
    "# List of probabilities\n",
    "prob = [1/(2*subsets)]*(subsets) + [1/2]   \n",
    "\n",
    "# Regularisation parameter\n",
    "alpha = 0.001\n",
    "beta = 0.2\n",
    "   \n",
    "# List of BlockFunctions\n",
    "fsubsets = [0.5*L2NormSquared(b = b[i]) for i in range(subsets)]\n",
    "\n",
    "# Setup (3D+spectral)TV term using BlockFunction\n",
    "f = BlockFunction(*fsubsets, BlockFunction(beta * L1Norm(), alpha * MixedL21Norm()))\n",
    "\n",
    "# Positivity constraint of g\n",
    "g = IndicatorBox(lower=0)"
   ]
  },
  {
   "cell_type": "code",
   "execution_count": 5,
   "id": "c06f2ace-8102-45ed-9822-d87b88ce0ee6",
   "metadata": {},
   "outputs": [
    {
     "name": "stdout",
     "output_type": "stream",
     "text": [
      "SPDHG setting up\n",
      "SPDHG configured\n"
     ]
    },
    {
     "name": "stderr",
     "output_type": "stream",
     "text": [
      "/home/vaggelis/miniconda3/envs/cil21_tigre_astra/lib/python3.8/site-packages/cil/framework/framework.py:2185: RuntimeWarning: invalid value encountered in true_divide\n",
      "  pwop(self.as_array(), x2.as_array(), *args, **kwargs )\n"
     ]
    }
   ],
   "source": [
    "# Run SPDHG algorithm\n",
    "spdhg = SPDHG(f = f, g = g, operator = K, \n",
    "              max_iteration = 1001,\n",
    "              update_objective_interval = 200, prob = prob )\n",
    "spdhg.run(verbose=0) "
   ]
  },
  {
   "cell_type": "code",
   "execution_count": 6,
   "id": "21d10784-3269-4fa9-a403-c65b56257ebc",
   "metadata": {},
   "outputs": [],
   "source": [
    "name = \"spdhg_3d_spectral_tv_reconstruction.nxs\"\n",
    "writer = NEXUSDataWriter(file_name = \"HyperspectralData/\" + name,\n",
    "                         data = spdhg.solution)     \n",
    "writer.write() "
   ]
  },
  {
   "cell_type": "code",
   "execution_count": null,
   "id": "ab08a84f-9bfe-4477-a190-f358ea08fdce",
   "metadata": {},
   "outputs": [],
   "source": []
  }
 ],
 "metadata": {
  "kernelspec": {
   "display_name": "Python [conda env:cil21_tigre_astra] *",
   "language": "python",
   "name": "conda-env-cil21_tigre_astra-py"
  },
  "language_info": {
   "codemirror_mode": {
    "name": "ipython",
    "version": 3
   },
   "file_extension": ".py",
   "mimetype": "text/x-python",
   "name": "python",
   "nbconvert_exporter": "python",
   "pygments_lexer": "ipython3",
   "version": "3.8.8"
  }
 },
 "nbformat": 4,
 "nbformat_minor": 5
}
