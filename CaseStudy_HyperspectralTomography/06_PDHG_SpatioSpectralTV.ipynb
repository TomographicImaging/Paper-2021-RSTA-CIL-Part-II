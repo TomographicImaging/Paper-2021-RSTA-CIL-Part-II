{
 "cells": [
  {
   "cell_type": "code",
   "execution_count": 1,
   "id": "fd1d74fe-0bba-4b6f-b149-661eda2f8985",
   "metadata": {},
   "outputs": [],
   "source": [
    "from cil.io import NEXUSDataReader, NEXUSDataWriter\n",
    "from cil.optimisation.algorithms import PDHG\n",
    "from cil.processors import Slicer\n",
    "from cil.plugins.astra.operators import ProjectionOperator\n",
    "from cil.optimisation.functions import IndicatorBox, L2NormSquared, MixedL21Norm, BlockFunction\n",
    "from cil.optimisation.operators import GradientOperator, BlockOperator\n",
    "from cil.optimisation.operators.GradientOperator import Gradient_C\n",
    "from cil.framework import BlockDataContainer, AcquisitionGeometry\n",
    "import matplotlib.pyplot as plt\n",
    "import pickle"
   ]
  },
  {
   "cell_type": "code",
   "execution_count": 2,
   "id": "614f7bbc-eef2-47cc-91c7-b432146d9bb6",
   "metadata": {},
   "outputs": [
    {
     "name": "stdout",
     "output_type": "stream",
     "text": [
      "(5, 5, 120, 400)\n"
     ]
    }
   ],
   "source": [
    "# Load data after the RingRemover processor\n",
    "name = \"data_after_ring_remover_318_398.nxs\"\n",
    "read_data = NEXUSDataReader(file_name = \"HyperspectralData/\" + name)\n",
    "data = read_data.load_data()\n",
    "\n",
    "# Select only 5 energy channels. To reproduce the results in the paper, select 318-398 energy interval\n",
    "data = Slicer(roi={'channel': (37,42),'vertical': (17,22)})(data)\n",
    "print(data.shape)"
   ]
  },
  {
   "cell_type": "code",
   "execution_count": 3,
   "id": "7e41a83a-09da-4621-9a2c-6a1769565864",
   "metadata": {},
   "outputs": [
    {
     "name": "stdout",
     "output_type": "stream",
     "text": [
      "Initialised GradientOperator with C backend running with  16  threads\n"
     ]
    }
   ],
   "source": [
    "# Extract geometry and angle information from data\n",
    "ag = data.geometry\n",
    "ig = ag.get_ImageGeometry()\n",
    "angles = ag.angles\n",
    "\n",
    "# For every geometry in list_geometries, define operators A_i\n",
    "Aop = ProjectionOperator(ig, ag, 'gpu')\n",
    "Grad = GradientOperator(ig, correlation=\"SpaceChannels\")\n",
    "K = BlockOperator(Aop, Grad)\n",
    "\n",
    "# Regularisation parameter\n",
    "alpha = 0.002\n",
    "\n",
    "# List of BlockFunctions\n",
    "f = BlockFunction(0.5*L2NormSquared(b = data), alpha * MixedL21Norm())\n",
    "\n",
    "# Positivity constraint of G\n",
    "g = IndicatorBox(lower=0)\n",
    "\n",
    "# Run SPDHG algorithm\n",
    "normK = K.norm()\n",
    "sigma = 1./normK\n",
    "tau = 1./normK"
   ]
  },
  {
   "cell_type": "code",
   "execution_count": 4,
   "id": "0e76d1dc-c6d2-4113-842f-5dc31f6adf71",
   "metadata": {},
   "outputs": [],
   "source": [
    "def callback_save(iteration, objective_value, solution):\n",
    "    \"\"\"Callback function to save images\"\"\"\n",
    "    \n",
    "    list_iter = [z for z in range(0,51,5)]+[1000]\n",
    "    \n",
    "    if iteration in list_iter:\n",
    "        name = \"pdhg_spatiospectral_tv_reconstruction_iter_{}.nxs\".format(iteration)\n",
    "        writer = NEXUSDataWriter(file_name = \"HyperspectralData/\" + name,\n",
    "                                 data = solution)     \n",
    "        writer.write() "
   ]
  },
  {
   "cell_type": "code",
   "execution_count": 5,
   "id": "97039174-014c-4c68-83d5-73312ee367dd",
   "metadata": {},
   "outputs": [
    {
     "name": "stdout",
     "output_type": "stream",
     "text": [
      "PDHG setting up\n",
      "PDHG configured\n"
     ]
    },
    {
     "name": "stderr",
     "output_type": "stream",
     "text": [
      "/home/vaggelis/miniconda3/envs/cil21_tigre_astra/lib/python3.8/site-packages/cil/framework/framework.py:2185: RuntimeWarning: invalid value encountered in true_divide\n",
      "  pwop(self.as_array(), x2.as_array(), *args, **kwargs )\n"
     ]
    }
   ],
   "source": [
    "pdhg = PDHG(f = f, g = g, operator = K, \n",
    "              max_iteration = 1001,\n",
    "            sigma=sigma, tau=tau)\n",
    "pdhg.run(verbose=0, callback = callback_save) \n",
    "\n",
    "pdhg_info = {}\n",
    "pdhg_info['timing'] = pdhg.timing\n",
    "with open('HyperspectralData/objectives_pdhg_spatiospectral_tv.pkl','wb') as f:\n",
    "    pickle.dump(pdhg_info, f)"
   ]
  }
 ],
 "metadata": {
  "kernelspec": {
   "display_name": "Python [conda env:cil21_tigre_astra] *",
   "language": "python",
   "name": "conda-env-cil21_tigre_astra-py"
  },
  "language_info": {
   "codemirror_mode": {
    "name": "ipython",
    "version": 3
   },
   "file_extension": ".py",
   "mimetype": "text/x-python",
   "name": "python",
   "nbconvert_exporter": "python",
   "pygments_lexer": "ipython3",
   "version": "3.8.8"
  }
 },
 "nbformat": 4,
 "nbformat_minor": 5
}
