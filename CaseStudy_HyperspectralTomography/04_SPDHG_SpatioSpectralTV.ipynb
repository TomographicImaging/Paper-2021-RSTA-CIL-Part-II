{
 "cells": [
  {
   "cell_type": "code",
   "execution_count": 1,
   "id": "54c1fe47-b18d-4126-a7ae-ef2b0e3af2e6",
   "metadata": {},
   "outputs": [],
   "source": [
    "from cil.io import NEXUSDataReader, NEXUSDataWriter\n",
    "from cil.optimisation.algorithms import SPDHG\n",
    "from cil.plugins.astra.operators import ProjectionOperator\n",
    "from cil.optimisation.functions import IndicatorBox, L2NormSquared, MixedL21Norm, BlockFunction\n",
    "from cil.optimisation.operators import GradientOperator, BlockOperator\n",
    "from cil.framework import BlockDataContainer\n",
    "from cil.processors import Slicer\n",
    "from cil.optimisation.operators import GradientOperator\n",
    "\n",
    "import pickle"
   ]
  },
  {
   "cell_type": "code",
   "execution_count": 2,
   "id": "b28a011c-bdc5-4d7f-83a6-7fd9d16c61a4",
   "metadata": {},
   "outputs": [
    {
     "name": "stdout",
     "output_type": "stream",
     "text": [
      "Sinogram shape is (80, 80, 120, 400)\n"
     ]
    }
   ],
   "source": [
    "# Load data after the RingRemover processor\n",
    "name = \"data_after_ring_remover_318_398.nxs\"\n",
    "read_data = NEXUSDataReader(file_name = \"HyperspectralData/\" + name)\n",
    "data = read_data.load_data()\n",
    "print(\"Sinogram shape is {}\".format(data.shape))"
   ]
  },
  {
   "cell_type": "markdown",
   "id": "e5b91830-8a0f-4212-9df0-7ffc289d9039",
   "metadata": {},
   "source": [
    "### For this notebook, we select only 5 energy channels and 5 vertical slices. \n",
    "\n",
    "### To reproduce the results in the paper, comment the line below. The reconstruction with 10 subsets and 500 iterations takes about 6 hours.\n",
    "\n",
    "### In the following, we would like to reproduce (mainly) Figure 11 and compare it with the PDHG reconstruction from the [PDHG_SpatioSpectralTV.ipynb](PDHG_SpatioSpectralTV.ipynb).\n",
    "\n",
    "**Note:** We run for only 1000 iterations, i.e., 50 epochs."
   ]
  },
  {
   "cell_type": "code",
   "execution_count": 3,
   "id": "6342a8bb-3af8-4964-8f2f-cbc33888ef5d",
   "metadata": {},
   "outputs": [
    {
     "name": "stdout",
     "output_type": "stream",
     "text": [
      "Sinogram shape is (5, 5, 120, 400)\n"
     ]
    }
   ],
   "source": [
    "# comment to reproduce the results in the paper\n",
    "data = Slicer(roi={'channel': (37,42),'vertical': (17,22)})(data)\n",
    "print(\"Sinogram shape is {}\".format(data.shape))\n",
    "\n",
    "# Extract geometry and angle information from data\n",
    "ag = data.geometry\n",
    "ig = ag.get_ImageGeometry()\n",
    "angles = ag.angles"
   ]
  },
  {
   "cell_type": "code",
   "execution_count": 4,
   "id": "b2f8af88-3666-4040-a6da-bb1945cd55dc",
   "metadata": {},
   "outputs": [
    {
     "name": "stdout",
     "output_type": "stream",
     "text": [
      "Initialised GradientOperator with C backend running with  16  threads\n"
     ]
    }
   ],
   "source": [
    "# Setup SPDHG parameters\n",
    "sample = \"stride\"\n",
    "\n",
    "# Choose number of subsets\n",
    "subsets = 10\n",
    "size_of_subsets = int(len(angles)/subsets)\n",
    "\n",
    "if sample ==\"uniform\":\n",
    "    list_data = [Slicer(roi={'angle':(i,len(angles),i+size_of_subsets)})(data) for i in range(0, len(angles), size_of_subsets)]\n",
    "elif sample ==\"stride\":  \n",
    "    list_data = [Slicer(roi={'angle':(i,len(angles),subsets)})(data) for i in range(subsets)]\n",
    "            \n",
    "list_geometries = [ag.geometry for ag in list_data ]\n",
    "\n",
    "# GradientOperator\n",
    "Grad = GradientOperator(ig, correlation=\"SpaceChannels\")\n",
    "\n",
    "# For every geometry in list_geometries, define operators A_i\n",
    "A_i = []\n",
    "A_i = [ProjectionOperator(ig, ageom) for ageom in list_geometries]\n",
    "A_i.append(Grad)\n",
    "\n",
    "# Wrap the projection operators A_i and GradientOperator to the BlockOperator K\n",
    "K = BlockOperator(*A_i)\n",
    "\n",
    "b = BlockDataContainer(*list_data)\n",
    "    \n",
    "# List of probabilities\n",
    "prob = [1/(2*subsets)]*(subsets) + [1/2]   \n",
    "\n",
    "# Regularisation parameter\n",
    "alpha = 0.002 \n",
    "   \n",
    "# List of BlockFunctions\n",
    "fsubsets = [0.5*L2NormSquared(b = b[i]) for i in range(subsets)]\n",
    "f = BlockFunction(*fsubsets, alpha * MixedL21Norm())\n",
    "\n",
    "# Positivity constraint of G\n",
    "g = IndicatorBox(lower=0)"
   ]
  },
  {
   "cell_type": "markdown",
   "id": "be8eb696-1ffa-4c33-b36d-b00a28b495e7",
   "metadata": {},
   "source": [
    "### We use callback_save to save the reconstruction every 100 iterations. \n",
    "\n",
    "**Note:** Under the explicit (SPDHG) setup, one epoch corresponds to 20 iterations. Therefore, 5 epochs\n",
    "correspond to 100 iterations. "
   ]
  },
  {
   "cell_type": "code",
   "execution_count": 5,
   "id": "ab0cb50d-8a2c-4426-a036-1882b1bdbfd9",
   "metadata": {},
   "outputs": [
    {
     "name": "stdout",
     "output_type": "stream",
     "text": [
      "SPDHG setting up\n",
      "SPDHG configured\n"
     ]
    },
    {
     "name": "stderr",
     "output_type": "stream",
     "text": [
      "/home/vaggelis/miniconda3/envs/cil21_tigre_astra/lib/python3.8/site-packages/cil/framework/framework.py:2185: RuntimeWarning: invalid value encountered in true_divide\n",
      "  pwop(self.as_array(), x2.as_array(), *args, **kwargs )\n"
     ]
    }
   ],
   "source": [
    "def callback_save(iteration, objective_value, solution):\n",
    "    \"\"\"Callback function to save images\"\"\"\n",
    "    \n",
    "    list_iter = [z for z in range(0,1001,100)]        \n",
    "\n",
    "    if iteration in list_iter:\n",
    "        name = \"spdhg_spatiospectral_tv_reconstruction_iter_{}.nxs\".format(iteration)\n",
    "        writer = NEXUSDataWriter(file_name = \"HyperspectralData/\" + name,\n",
    "                                 data = solution)     \n",
    "        writer.write() \n",
    "        \n",
    "# Run SPDHG algorithm\n",
    "spdhg = SPDHG(f = f, g = g, operator = K, \n",
    "              max_iteration = 1001,\n",
    "              update_objective_interval = 1, prob = prob )\n",
    "spdhg.run(verbose=0, callback=callback_save) \n",
    "\n",
    "spdhg_info = {}\n",
    "spdhg_info['timing'] = spdhg.timing\n",
    "with open('HyperspectralData/objectives_spdhg_spatiospectral_tv.pkl','wb') as f:\n",
    "    pickle.dump(spdhg_info, f)    "
   ]
  },
  {
   "cell_type": "code",
   "execution_count": null,
   "id": "21d10784-3269-4fa9-a403-c65b56257ebc",
   "metadata": {},
   "outputs": [],
   "source": []
  }
 ],
 "metadata": {
  "kernelspec": {
   "display_name": "Python [conda env:cil21_tigre_astra] *",
   "language": "python",
   "name": "conda-env-cil21_tigre_astra-py"
  },
  "language_info": {
   "codemirror_mode": {
    "name": "ipython",
    "version": 3
   },
   "file_extension": ".py",
   "mimetype": "text/x-python",
   "name": "python",
   "nbconvert_exporter": "python",
   "pygments_lexer": "ipython3",
   "version": "3.8.8"
  }
 },
 "nbformat": 4,
 "nbformat_minor": 5
}
